{
 "cells": [
  {
   "cell_type": "markdown",
   "metadata": {},
   "source": [
    "**Stochastic Event Flood Model (SEFM).**\n",
    "\n",
    "\n",
    "sefm est une approche stochastique de génération des apports et du laminage basé sur la prise en compte des corrélations spatiotemporelles des conditions météo (pluie, neige au sol) et des conditions en réservoirs"
   ]
  },
  {
   "cell_type": "markdown",
   "metadata": {},
   "source": [
    "\n",
    "\n",
    "The [User Guide](user_guide/index.html) shows more of what's available and how to use it.\n",
    "\n",
    "## Installation\n",
    "\n",
    "hvPlot supports Python 2.7, 3.5, 3.6 and 3.7 on Linux, Windows, or Mac and can be installed with conda:\n",
    "\n",
    "```\n",
    "conda install -c pyviz hvplot\n",
    "```\n",
    "\n",
    "or with pip:\n",
    "\n",
    "```\n",
    "pip install hvplot\n",
    "```\n",
    "\n",
    "For JupyterLab support, the ``jupyterlab_pyviz`` extension is also required:\n",
    "\n",
    "```\n",
    "jupyter labextension install @pyviz/jupyterlab_pyviz\n",
    "```\n",
    "\n",
    "The [Getting Started Guide](getting_started/index.html) has more details if you need them."
   ]
  },
  {
   "cell_type": "code",
   "execution_count": null,
   "metadata": {},
   "outputs": [],
   "source": []
  }
 ],
 "metadata": {
  "kernelspec": {
   "display_name": "Python 3",
   "language": "python",
   "name": "python3"
  },
  "language_info": {
   "codemirror_mode": {
    "name": "ipython",
    "version": 3
   },
   "file_extension": ".py",
   "mimetype": "text/x-python",
   "name": "python",
   "nbconvert_exporter": "python",
   "pygments_lexer": "ipython3",
   "version": "3.7.6"
  }
 },
 "nbformat": 4,
 "nbformat_minor": 2
}
