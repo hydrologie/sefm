{
 "cells": [
  {
   "cell_type": "markdown",
   "metadata": {},
   "source": [
    "## Task 1-3 : Climate Region Delineation"
   ]
  },
  {
   "cell_type": "markdown",
   "metadata": {},
   "source": [
    "La définition des régions climatiques est un exercice qui vise à définir des régions hétérogènes dans le secteur à l'étude basé sur ses caractéristiques climatiques et physiographiques. Les données de ERA5-Land sont utlisées afin d'évaluer un ensemble de variables explicatives spatialisées et permettront d'évaluer un regroupement (<em>clustering</em>) de régions aux moyens d'algorithmes de partitionnement."
   ]
  },
  {
   "cell_type": "code",
   "execution_count": null,
   "metadata": {},
   "outputs": [],
   "source": [
    "import xarray as xr\n",
    "import fsspec\n",
    "from distributed import Client\n",
    "import hvplot.xarray\n",
    "import numpy as np"
   ]
  },
  {
   "cell_type": "markdown",
   "metadata": {},
   "source": [
    "## Intrants"
   ]
  },
  {
   "cell_type": "markdown",
   "metadata": {},
   "source": [
    "Définition d'une région spatiale et d'une période climatique afin de limiter l'extraction des grilles météos"
   ]
  },
  {
   "cell_type": "code",
   "execution_count": null,
   "metadata": {},
   "outputs": [],
   "source": [
    "latlngbox = [-82, -74, 44.5, 49]\n",
    "climatic_period = ['1981-01-01', '2010-12-31']"
   ]
  },
  {
   "cell_type": "markdown",
   "metadata": {},
   "source": [
    "Définition des caracrétistiques du stockage des données ERA5-Land"
   ]
  },
  {
   "cell_type": "code",
   "execution_count": null,
   "metadata": {},
   "outputs": [],
   "source": [
    "bucket = 's3://era5-atlantic-northeast/zarr/land/reanalysis'\n",
    "storage_options = {'endpoint_url': 'https://s3.us-east-2.wasabisys.com',\n",
    "                   'anon': True}"
   ]
  },
  {
   "cell_type": "markdown",
   "metadata": {},
   "source": [
    "## Client Dask "
   ]
  },
  {
   "cell_type": "markdown",
   "metadata": {},
   "source": [
    "Le client Dask permet de paralléliser l'ensemble du code ci-après et d'effectuer le calcul par <em>lazy loading</em>. Lorsqu'un calcul est lancé, celui-ci peut être suivi en temps réel via le tableau de bord (<em>dashboard</em>) dont l'adresse est affichée ci-dessous."
   ]
  },
  {
   "cell_type": "code",
   "execution_count": null,
   "metadata": {},
   "outputs": [],
   "source": [
    "client = Client()\n",
    "client"
   ]
  },
  {
   "cell_type": "markdown",
   "metadata": {},
   "source": [
    "## Importation de ERA5-Land "
   ]
  },
  {
   "cell_type": "markdown",
   "metadata": {},
   "source": [
    "ERA5-Land est importé vers un dataset (ds) qui facilite l'appel à des matrices multidimensionnelles (latitude, longitude, variable, temps, etc.)"
   ]
  },
  {
   "cell_type": "code",
   "execution_count": null,
   "metadata": {},
   "outputs": [],
   "source": [
    "ds = xr.open_zarr(fsspec.get_mapper(bucket,\n",
    "                                    client_kwargs=storage_options),\n",
    "                  consolidated=True)"
   ]
  },
  {
   "cell_type": "markdown",
   "metadata": {},
   "source": [
    "Le dataset peut être virtuellement réduit avant même de lancer le calcul d'extraction des données. Ceci est possible grâce au <em>lazy loading</em>"
   ]
  },
  {
   "cell_type": "code",
   "execution_count": null,
   "metadata": {},
   "outputs": [],
   "source": [
    "# Accès à un sous ensemble des données via le lazy loading\n",
    "\n",
    "ds = ds.sel(time=slice(climatic_period[0], climatic_period[1]),\n",
    "            longitude=slice(latlngbox[0], latlngbox[1]),\n",
    "            latitude=slice(latlngbox[3], latlngbox[2]))"
   ]
  },
  {
   "cell_type": "code",
   "execution_count": null,
   "metadata": {},
   "outputs": [],
   "source": [
    "ds"
   ]
  },
  {
   "cell_type": "markdown",
   "metadata": {},
   "source": [
    "## Calcul des grilles explicatives"
   ]
  },
  {
   "cell_type": "markdown",
   "metadata": {},
   "source": [
    "### Précipitation moyenne annuelle (MAP)"
   ]
  },
  {
   "cell_type": "markdown",
   "metadata": {},
   "source": [
    "La variable tp comprend le champ <em>total precipitation</em>. Le champ est passé du Dataset (ds) vers un DataArray, dans ce cas-ci da_tp, lequel ne contient que l'information de la variable tp. Il convient de rappeler que jusqu'ici, aucun calcul n'a encore été entamé en raison du <em>lazy loading</em>.\n"
   ]
  },
  {
   "cell_type": "code",
   "execution_count": null,
   "metadata": {},
   "outputs": [],
   "source": [
    "da_tp = ds.tp"
   ]
  },
  {
   "cell_type": "markdown",
   "metadata": {},
   "source": [
    "Les données de précipitation ERA5-Land sont cumulatives sur un jour. La fonction ci-dessous permet de décumuler les grilles."
   ]
  },
  {
   "cell_type": "code",
   "execution_count": null,
   "metadata": {},
   "outputs": [],
   "source": [
    "da_tp_decumulated = xr.where(da_tp.time.dt.hour == 1,\n",
    "                             da_tp,\n",
    "                             xr.concat([da_tp.isel(time=0), da_tp.diff(dim='time')],\n",
    "                                       dim='time'))"
   ]
  },
  {
   "cell_type": "markdown",
   "metadata": {},
   "source": [
    "Transformation des données vers une somme annuelle des précipitations, puis moyenne temporelle sur l'ensemble des années préalablement filtrées. Notons qu'en raison du <em>lazy loading</em>, le calcul ne débute que lorsque la méthode .compute() est appelée"
   ]
  },
  {
   "cell_type": "code",
   "execution_count": null,
   "metadata": {},
   "outputs": [],
   "source": [
    "da_tp_moyen = da_tp_decumulated\\\n",
    "                    .resample(time='1Y')\\\n",
    "                    .sum()\\\n",
    "                    .mean('time')\\\n",
    "                    .compute()"
   ]
  },
  {
   "cell_type": "markdown",
   "metadata": {},
   "source": [
    "Affichage de la précipitation moyenne annuelle (1981-2010)"
   ]
  },
  {
   "cell_type": "code",
   "execution_count": null,
   "metadata": {},
   "outputs": [],
   "source": [
    "da_tp_moyen.hvplot()"
   ]
  },
  {
   "cell_type": "markdown",
   "metadata": {},
   "source": [
    "### Température moyenne saisonnière"
   ]
  },
  {
   "cell_type": "markdown",
   "metadata": {},
   "source": [
    "Conversion des unités Kelvin vers Celcius et passage des données de température moyenne à 2 mètres (t2m) du Dataset (ds) vers le DataArray da_t2m"
   ]
  },
  {
   "cell_type": "code",
   "execution_count": null,
   "metadata": {},
   "outputs": [],
   "source": [
    "da_t2m = ds.t2m - 273.15"
   ]
  },
  {
   "cell_type": "markdown",
   "metadata": {},
   "source": [
    "Définition d'un DataArray pour chacune des quatre saison de l'année. L'argument <em>test_element</em> prend en entrée une liste des mois de l'année entre 1 (janvier) et 12 (décembre)"
   ]
  },
  {
   "cell_type": "code",
   "execution_count": null,
   "metadata": {},
   "outputs": [],
   "source": [
    "da_t2m_pr = da_t2m.sel(time = np.isin(da_t2m['time.month'], test_elements=[3,4,5,6]))\n",
    "\n",
    "da_t2m_ete = da_t2m.sel(time = np.isin(da_t2m['time.month'], test_elements=[7,8]))\n",
    "\n",
    "da_t2m_automne = da_t2m.sel(time = np.isin(da_t2m['time.month'], test_elements=[9,10,11]))\n",
    "\n",
    "da_t2m_hiver = da_t2m.sel(time = np.isin(da_t2m['time.month'], test_elements=[12,1,2]))"
   ]
  },
  {
   "cell_type": "markdown",
   "metadata": {},
   "source": [
    "Pour chacune des saisons de l'année, on opère une transformation des données vers une moyenne saisonnière des températures à 2 mètres, suivi d'une moyenne temporelle sur l'ensemble des années préalablement filtrées. Notons qu'en raison du <em>lazy loading</em>, le calcul ne débute que lorsque la méthode .compute() est appelée"
   ]
  },
  {
   "cell_type": "code",
   "execution_count": null,
   "metadata": {},
   "outputs": [],
   "source": [
    "da_t2m_pr_moyen = da_t2m_pr\\\n",
    "                        .resample(time='1Y')\\\n",
    "                        .mean()\\\n",
    "                        .mean('time')\\\n",
    "                        .compute()\n",
    "\n",
    "da_t2m_ete_moyen  = da_t2m_ete\\\n",
    "                        .resample(time='1Y')\\\n",
    "                        .mean()\\\n",
    "                        .mean('time')\\\n",
    "                        .compute()\n",
    "\n",
    "da_t2m_automne_moyen  = da_t2m_automne\\\n",
    "                        .resample(time='1Y')\\\n",
    "                        .mean()\\\n",
    "                        .mean('time')\\\n",
    "                        .compute()\n",
    "\n",
    "da_t2m_hiver_moyen  = da_t2m_hiver\\\n",
    "                        .resample(time='1Y')\\\n",
    "                        .mean()\\\n",
    "                        .mean('time')\\\n",
    "                        .compute()"
   ]
  },
  {
   "cell_type": "markdown",
   "metadata": {},
   "source": [
    "Affichage dynamique des grilles saisonnières de température à 2 mètres pour chacune des saisons"
   ]
  },
  {
   "cell_type": "code",
   "execution_count": null,
   "metadata": {},
   "outputs": [],
   "source": [
    "(da_t2m_pr_moyen.hvplot(label='Printemps', cmap='bwr') + \\\n",
    " \n",
    " da_t2m_ete_moyen.hvplot(label='Été', cmap='bwr') + \\\n",
    " \n",
    " da_t2m_automne_moyen.hvplot(label='Automne', cmap='bwr') + \\\n",
    " \n",
    " da_t2m_hiver_moyen.hvplot(label='Hiver', cmap='bwr')).cols(1)"
   ]
  }
 ],
 "metadata": {
  "kernelspec": {
   "display_name": "sefm",
   "language": "python",
   "name": "sefm"
  },
  "language_info": {
   "codemirror_mode": {
    "name": "ipython",
    "version": 3
   },
   "file_extension": ".py",
   "mimetype": "text/x-python",
   "name": "python",
   "nbconvert_exporter": "python",
   "pygments_lexer": "ipython3",
   "version": "3.7.6"
  }
 },
 "nbformat": 4,
 "nbformat_minor": 4
}
